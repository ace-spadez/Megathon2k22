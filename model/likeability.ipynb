{
 "cells": [
  {
   "cell_type": "code",
   "execution_count": 16,
   "id": "a89debd9-2ead-4a7f-b94a-0bf9c48a90d0",
   "metadata": {},
   "outputs": [],
   "source": [
    "import torch\n",
    "import numpy as np\n",
    "import torch.nn as nn\n",
    "import torch.nn.functional as F\n",
    "from torch import optim\n",
    "from torch.utils.data import Dataset, DataLoader"
   ]
  },
  {
   "cell_type": "code",
   "execution_count": 12,
   "id": "3df15da7-660d-4d85-94da-7655352d7553",
   "metadata": {},
   "outputs": [],
   "source": [
    "device = torch.device(\"cuda\" if torch.cuda.is_available() else \"cpu\")"
   ]
  },
  {
   "cell_type": "code",
   "execution_count": 21,
   "id": "76b185fd-cd25-44ac-aba6-4c2d90e4f88f",
   "metadata": {},
   "outputs": [],
   "source": [
    "x_train = np.asarray([])\n",
    "y_train = np.asarray([])\n",
    "x_test = np.asarray([])\n",
    "y_test = np.asarray([])"
   ]
  },
  {
   "cell_type": "code",
   "execution_count": 17,
   "id": "034db970-a494-4d10-a9d7-3e31bcfd0c05",
   "metadata": {},
   "outputs": [],
   "source": [
    "class Data(Dataset):\n",
    "    def __init__(self, x, y):\n",
    "        self.x = torch.from_numpy(x.astype(np.float32))\n",
    "        self.y = torch.from_numpy(y.astype(np.float32))\n",
    "        self.len = self.x.shape[0]\n",
    "    \n",
    "    def __get_item__(self, indx):\n",
    "        return self.x[indx], self.y[indx]\n",
    "    \n",
    "    def __len__(self):\n",
    "        return self.len"
   ]
  },
  {
   "cell_type": "code",
   "execution_count": 18,
   "id": "d5461a26-d778-4b0a-bd05-619c73e81790",
   "metadata": {},
   "outputs": [],
   "source": [
    "BATCH_SIZE = 256"
   ]
  },
  {
   "cell_type": "code",
   "execution_count": null,
   "id": "855b6139-56f0-4917-9ddf-9a507534bc65",
   "metadata": {},
   "outputs": [],
   "source": [
    "train_data = Data(x_train, y_train)\n",
    "train_loader = DataLoader(dataset = train_data, batch_size = BATCH_SIZE, shuffle = True)\n",
    "\n",
    "test_data = Data(x_test, y_test)\n",
    "test_loader = DataLoader(dataset = test_data, batch_size = BATCH_SIZE, shuffle = True)"
   ]
  },
  {
   "cell_type": "code",
   "execution_count": 8,
   "id": "1e05a8b3-d6aa-404f-823e-d83600c809d3",
   "metadata": {},
   "outputs": [],
   "source": [
    "class Likeability(nn.Module):\n",
    "    def __init__(self, input_dim, hidden_dim, num_layers):\n",
    "        super(Likeability, self).__init__()\n",
    "        self.layers = nn.ModuleList()\n",
    "        for i in range(num_layers):\n",
    "            if i == 0:\n",
    "                self.layers.append(nn.Linear(input_dim, hidden_dim))\n",
    "            elif i == num_layers-1:\n",
    "                self.layers.append(nn.Linear(hidden_dim, 1))\n",
    "            else:\n",
    "                self.layers.append(nn.Linear(hidden_dim, hidden_dim))\n",
    "            nn.init.kaiming_uniform_(self.layers[-1].weight, nonlinearity=\"relu\")\n",
    "    \n",
    "    def forward(self, x):\n",
    "        for i in range(len(self.layers)):\n",
    "            x = self.layers[i](x)\n",
    "            x = x.relu()\n",
    "            if i != len(self.layers) - 1:\n",
    "                x = F.dropout(x, p=0.5, training=self.training)\n",
    "        return x"
   ]
  },
  {
   "cell_type": "code",
   "execution_count": 9,
   "id": "7ac00dfa-5cfc-4f63-bb6e-86f7711f4992",
   "metadata": {},
   "outputs": [],
   "source": [
    "model = Likeability(25, 64, 3)"
   ]
  },
  {
   "cell_type": "code",
   "execution_count": 14,
   "id": "bac2828f-1979-4c21-988f-e5d7b013d5c8",
   "metadata": {},
   "outputs": [
    {
     "data": {
      "text/plain": [
       "Likeability(\n",
       "  (layers): ModuleList(\n",
       "    (0): Linear(in_features=25, out_features=64, bias=True)\n",
       "    (1): Linear(in_features=64, out_features=64, bias=True)\n",
       "    (2): Linear(in_features=64, out_features=1, bias=True)\n",
       "  )\n",
       ")"
      ]
     },
     "execution_count": 14,
     "metadata": {},
     "output_type": "execute_result"
    }
   ],
   "source": [
    "model.to(device)"
   ]
  },
  {
   "cell_type": "code",
   "execution_count": 15,
   "id": "bc171187-f6b4-4d06-b20c-4582be1aa338",
   "metadata": {},
   "outputs": [],
   "source": [
    "EPOCHS = 100\n",
    "LR = 2e-3\n",
    "LOSS = nn.MSELoss()\n",
    "OPT = optim.Adam(model.parameters(), lr = LR)"
   ]
  },
  {
   "cell_type": "code",
   "execution_count": null,
   "id": "972efdb5-83dd-4ae8-ba8f-3807dc18b5b3",
   "metadata": {},
   "outputs": [],
   "source": [
    "losses = []\n",
    "\n",
    "for epoch in range(EPOCHS):\n",
    "    for x, y in train_loader:\n",
    "        OPT.zero_grad()\n",
    "        pred = model(x)\n",
    "        loss = LOSS(pred, y.unsqueeze(-1))\n",
    "        losses.append(loss)\n",
    "        loss.backward()\n",
    "        OPT.step()"
   ]
  },
  {
   "cell_type": "code",
   "execution_count": null,
   "id": "8060f6dc-487f-4ac3-8f64-156734663c02",
   "metadata": {},
   "outputs": [],
   "source": [
    "y_pred = []\n",
    "y_test = []\n",
    "preds = []\n",
    "\n",
    "with torch.no_grad():\n",
    "    for x, y in test_loader:\n",
    "        pred = model(x)\n",
    "        y_pred.append(pred)\n",
    "        y_test.append(y)\n",
    "        preds.append(int(pred == y))"
   ]
  },
  {
   "cell_type": "code",
   "execution_count": null,
   "id": "a4e67fe0-023c-4950-a8ef-0ac15f7d796f",
   "metadata": {},
   "outputs": [],
   "source": [
    "sum(pred)/len(preds)"
   ]
  }
 ],
 "metadata": {
  "kernelspec": {
   "display_name": "Python 3 (ipykernel)",
   "language": "python",
   "name": "python3"
  },
  "language_info": {
   "codemirror_mode": {
    "name": "ipython",
    "version": 3
   },
   "file_extension": ".py",
   "mimetype": "text/x-python",
   "name": "python",
   "nbconvert_exporter": "python",
   "pygments_lexer": "ipython3",
   "version": "3.9.6"
  }
 },
 "nbformat": 4,
 "nbformat_minor": 5
}
